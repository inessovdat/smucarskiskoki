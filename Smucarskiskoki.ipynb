{
 "cells": [
  {
   "cell_type": "markdown",
   "metadata": {},
   "source": [
    "# SMUČARSKI SKOKI"
   ]
  },
  {
   "cell_type": "markdown",
   "metadata": {},
   "source": [
    "Za projekt pri predmetu Programiranje 1 sem izbrala smučarske skoke. Podatke, ki jih bom v nadaljevanju analizirala, sem pridobila iz spletne strani https://data.fis-ski.com/global-links/all-fis-results.html?&gender_search=m&category_search=WC .\n"
   ]
  },
  {
   "cell_type": "code",
   "execution_count": 2,
   "metadata": {
    "collapsed": true
   },
   "outputs": [],
   "source": [
    "import pandas as pd\n",
    "pd.options.display.max_rows = 25\n",
    "pd.options.display.max_columns = 10"
   ]
  },
  {
   "cell_type": "code",
   "execution_count": 3,
   "metadata": {
    "collapsed": false
   },
   "outputs": [],
   "source": [
    "rezultati = pd.read_csv('rezultati.csv')\n",
    "tekmovalci = pd.read_csv('tekmovalci.csv')\n",
    "tekme = pd.read_csv('tekme.csv')"
   ]
  },
  {
   "cell_type": "code",
   "execution_count": 3,
   "metadata": {
    "collapsed": false
   },
   "outputs": [],
   "source": [
    "%matplotlib inline"
   ]
  },
  {
   "cell_type": "markdown",
   "metadata": {},
   "source": [
    "V tabeli rezultati imamo zapisane uvrstitve tekmovalcev na tekmah svetovnega pokala (vključene so samo moške posamične tekme, ženske tekme, kvalifikacije in ekipne tekme v analizo niso vključene) v zadnjih 10 letih, torej med sezonama 2005/06 in 2015/16.\n",
    "V tabeli tekmovalci imamo zapisane podatke o tekmovalcih, v tabeli tekme pa podatke o tekmah."
   ]
  },
  {
   "cell_type": "markdown",
   "metadata": {},
   "source": [
    "## 1. Dominantnost skakalcev med 2005/06 in 2015/16"
   ]
  },
  {
   "cell_type": "markdown",
   "metadata": {},
   "source": [
    "Ker je eden izmed ciljev te analize podatkov ugotoviti uspešnost posameznih skakalcev v tem obdobju, se bomo osredotočili na število uvrstitev do določenega mesta."
   ]
  },
  {
   "cell_type": "code",
   "execution_count": 74,
   "metadata": {
    "collapsed": false
   },
   "outputs": [
    {
     "data": {
      "text/html": [
       "<div>\n",
       "<table border=\"1\" class=\"dataframe\">\n",
       "  <thead>\n",
       "    <tr style=\"text-align: right;\">\n",
       "      <th></th>\n",
       "      <th>mesto</th>\n",
       "      <th>id_tekmovalca</th>\n",
       "      <th>tocke</th>\n",
       "      <th>tekmovalec</th>\n",
       "      <th>leto_rojstva</th>\n",
       "      <th>drzava</th>\n",
       "    </tr>\n",
       "  </thead>\n",
       "  <tbody>\n",
       "    <tr>\n",
       "      <th>0</th>\n",
       "      <td>1</td>\n",
       "      <td>1984</td>\n",
       "      <td>155.4</td>\n",
       "      <td>JANDA Jakub</td>\n",
       "      <td>1978</td>\n",
       "      <td>CZE</td>\n",
       "    </tr>\n",
       "    <tr>\n",
       "      <th>1</th>\n",
       "      <td>7</td>\n",
       "      <td>1984</td>\n",
       "      <td>283.7</td>\n",
       "      <td>JANDA Jakub</td>\n",
       "      <td>1978</td>\n",
       "      <td>CZE</td>\n",
       "    </tr>\n",
       "    <tr>\n",
       "      <th>2</th>\n",
       "      <td>2</td>\n",
       "      <td>1984</td>\n",
       "      <td>267.6</td>\n",
       "      <td>JANDA Jakub</td>\n",
       "      <td>1978</td>\n",
       "      <td>CZE</td>\n",
       "    </tr>\n",
       "    <tr>\n",
       "      <th>3</th>\n",
       "      <td>8</td>\n",
       "      <td>1984</td>\n",
       "      <td>261.0</td>\n",
       "      <td>JANDA Jakub</td>\n",
       "      <td>1978</td>\n",
       "      <td>CZE</td>\n",
       "    </tr>\n",
       "    <tr>\n",
       "      <th>4</th>\n",
       "      <td>29</td>\n",
       "      <td>1984</td>\n",
       "      <td>369.7</td>\n",
       "      <td>JANDA Jakub</td>\n",
       "      <td>1978</td>\n",
       "      <td>CZE</td>\n",
       "    </tr>\n",
       "    <tr>\n",
       "      <th>5</th>\n",
       "      <td>11</td>\n",
       "      <td>1984</td>\n",
       "      <td>252.6</td>\n",
       "      <td>JANDA Jakub</td>\n",
       "      <td>1978</td>\n",
       "      <td>CZE</td>\n",
       "    </tr>\n",
       "    <tr>\n",
       "      <th>6</th>\n",
       "      <td>4</td>\n",
       "      <td>1984</td>\n",
       "      <td>266.7</td>\n",
       "      <td>JANDA Jakub</td>\n",
       "      <td>1978</td>\n",
       "      <td>CZE</td>\n",
       "    </tr>\n",
       "    <tr>\n",
       "      <th>7</th>\n",
       "      <td>7</td>\n",
       "      <td>1984</td>\n",
       "      <td>256.1</td>\n",
       "      <td>JANDA Jakub</td>\n",
       "      <td>1978</td>\n",
       "      <td>CZE</td>\n",
       "    </tr>\n",
       "    <tr>\n",
       "      <th>8</th>\n",
       "      <td>1</td>\n",
       "      <td>1984</td>\n",
       "      <td>287.1</td>\n",
       "      <td>JANDA Jakub</td>\n",
       "      <td>1978</td>\n",
       "      <td>CZE</td>\n",
       "    </tr>\n",
       "    <tr>\n",
       "      <th>9</th>\n",
       "      <td>2</td>\n",
       "      <td>1984</td>\n",
       "      <td>263.2</td>\n",
       "      <td>JANDA Jakub</td>\n",
       "      <td>1978</td>\n",
       "      <td>CZE</td>\n",
       "    </tr>\n",
       "    <tr>\n",
       "      <th>10</th>\n",
       "      <td>2</td>\n",
       "      <td>1984</td>\n",
       "      <td>291.0</td>\n",
       "      <td>JANDA Jakub</td>\n",
       "      <td>1978</td>\n",
       "      <td>CZE</td>\n",
       "    </tr>\n",
       "    <tr>\n",
       "      <th>11</th>\n",
       "      <td>1</td>\n",
       "      <td>1984</td>\n",
       "      <td>2929.0</td>\n",
       "      <td>JANDA Jakub</td>\n",
       "      <td>1978</td>\n",
       "      <td>CZE</td>\n",
       "    </tr>\n",
       "    <tr>\n",
       "      <th>...</th>\n",
       "      <td>...</td>\n",
       "      <td>...</td>\n",
       "      <td>...</td>\n",
       "      <td>...</td>\n",
       "      <td>...</td>\n",
       "      <td>...</td>\n",
       "    </tr>\n",
       "    <tr>\n",
       "      <th>13915</th>\n",
       "      <td>28</td>\n",
       "      <td>6883</td>\n",
       "      <td>185.1</td>\n",
       "      <td>VANCURA Tomas</td>\n",
       "      <td>1996</td>\n",
       "      <td>CZE</td>\n",
       "    </tr>\n",
       "    <tr>\n",
       "      <th>13916</th>\n",
       "      <td>33</td>\n",
       "      <td>6883</td>\n",
       "      <td>134.4</td>\n",
       "      <td>VANCURA Tomas</td>\n",
       "      <td>1996</td>\n",
       "      <td>CZE</td>\n",
       "    </tr>\n",
       "    <tr>\n",
       "      <th>13917</th>\n",
       "      <td>31</td>\n",
       "      <td>6883</td>\n",
       "      <td>174.4</td>\n",
       "      <td>VANCURA Tomas</td>\n",
       "      <td>1996</td>\n",
       "      <td>CZE</td>\n",
       "    </tr>\n",
       "    <tr>\n",
       "      <th>13918</th>\n",
       "      <td>43</td>\n",
       "      <td>6883</td>\n",
       "      <td>148.7</td>\n",
       "      <td>VANCURA Tomas</td>\n",
       "      <td>1996</td>\n",
       "      <td>CZE</td>\n",
       "    </tr>\n",
       "    <tr>\n",
       "      <th>13919</th>\n",
       "      <td>38</td>\n",
       "      <td>6392</td>\n",
       "      <td>100.7</td>\n",
       "      <td>NAKAMURA Naoki</td>\n",
       "      <td>1996</td>\n",
       "      <td>JPN</td>\n",
       "    </tr>\n",
       "    <tr>\n",
       "      <th>13920</th>\n",
       "      <td>25</td>\n",
       "      <td>6392</td>\n",
       "      <td>190.5</td>\n",
       "      <td>NAKAMURA Naoki</td>\n",
       "      <td>1996</td>\n",
       "      <td>JPN</td>\n",
       "    </tr>\n",
       "    <tr>\n",
       "      <th>13921</th>\n",
       "      <td>35</td>\n",
       "      <td>5945</td>\n",
       "      <td>91.7</td>\n",
       "      <td>HUBER Daniel</td>\n",
       "      <td>1993</td>\n",
       "      <td>AUT</td>\n",
       "    </tr>\n",
       "    <tr>\n",
       "      <th>13922</th>\n",
       "      <td>45</td>\n",
       "      <td>6781</td>\n",
       "      <td>65.6</td>\n",
       "      <td>ITO Masamitsu</td>\n",
       "      <td>1998</td>\n",
       "      <td>JPN</td>\n",
       "    </tr>\n",
       "    <tr>\n",
       "      <th>13923</th>\n",
       "      <td>48</td>\n",
       "      <td>6996</td>\n",
       "      <td>36.1</td>\n",
       "      <td>AALTO Antti</td>\n",
       "      <td>1995</td>\n",
       "      <td>FIN</td>\n",
       "    </tr>\n",
       "    <tr>\n",
       "      <th>13924</th>\n",
       "      <td>44</td>\n",
       "      <td>6428</td>\n",
       "      <td>86.9</td>\n",
       "      <td>OJALA Juho</td>\n",
       "      <td>1995</td>\n",
       "      <td>FIN</td>\n",
       "    </tr>\n",
       "    <tr>\n",
       "      <th>13925</th>\n",
       "      <td>50</td>\n",
       "      <td>6428</td>\n",
       "      <td>48.3</td>\n",
       "      <td>OJALA Juho</td>\n",
       "      <td>1995</td>\n",
       "      <td>FIN</td>\n",
       "    </tr>\n",
       "    <tr>\n",
       "      <th>13926</th>\n",
       "      <td>43</td>\n",
       "      <td>6483</td>\n",
       "      <td>81.6</td>\n",
       "      <td>JELAR Ziga</td>\n",
       "      <td>1997</td>\n",
       "      <td>SLO</td>\n",
       "    </tr>\n",
       "  </tbody>\n",
       "</table>\n",
       "<p>13927 rows × 6 columns</p>\n",
       "</div>"
      ],
      "text/plain": [
       "       mesto  id_tekmovalca   tocke      tekmovalec  leto_rojstva drzava\n",
       "0          1           1984   155.4     JANDA Jakub          1978    CZE\n",
       "1          7           1984   283.7     JANDA Jakub          1978    CZE\n",
       "2          2           1984   267.6     JANDA Jakub          1978    CZE\n",
       "3          8           1984   261.0     JANDA Jakub          1978    CZE\n",
       "4         29           1984   369.7     JANDA Jakub          1978    CZE\n",
       "5         11           1984   252.6     JANDA Jakub          1978    CZE\n",
       "6          4           1984   266.7     JANDA Jakub          1978    CZE\n",
       "7          7           1984   256.1     JANDA Jakub          1978    CZE\n",
       "8          1           1984   287.1     JANDA Jakub          1978    CZE\n",
       "9          2           1984   263.2     JANDA Jakub          1978    CZE\n",
       "10         2           1984   291.0     JANDA Jakub          1978    CZE\n",
       "11         1           1984  2929.0     JANDA Jakub          1978    CZE\n",
       "...      ...            ...     ...             ...           ...    ...\n",
       "13915     28           6883   185.1   VANCURA Tomas          1996    CZE\n",
       "13916     33           6883   134.4   VANCURA Tomas          1996    CZE\n",
       "13917     31           6883   174.4   VANCURA Tomas          1996    CZE\n",
       "13918     43           6883   148.7   VANCURA Tomas          1996    CZE\n",
       "13919     38           6392   100.7  NAKAMURA Naoki          1996    JPN\n",
       "13920     25           6392   190.5  NAKAMURA Naoki          1996    JPN\n",
       "13921     35           5945    91.7    HUBER Daniel          1993    AUT\n",
       "13922     45           6781    65.6   ITO Masamitsu          1998    JPN\n",
       "13923     48           6996    36.1     AALTO Antti          1995    FIN\n",
       "13924     44           6428    86.9      OJALA Juho          1995    FIN\n",
       "13925     50           6428    48.3      OJALA Juho          1995    FIN\n",
       "13926     43           6483    81.6      JELAR Ziga          1997    SLO\n",
       "\n",
       "[13927 rows x 6 columns]"
      ]
     },
     "execution_count": 74,
     "metadata": {},
     "output_type": "execute_result"
    }
   ],
   "source": [
    "rezultati.merge(tekmovalci, on='id_tekmovalca')"
   ]
  },
  {
   "cell_type": "markdown",
   "metadata": {},
   "source": [
    "Izračunamo povprečno uvrstitev tekmovalcev v zadnjih 10 letih, da dobimo malo občutka, kako nihajo forme tekmovalcev v malo daljšem časovnem obdobju. "
   ]
  },
  {
   "cell_type": "code",
   "execution_count": 75,
   "metadata": {
    "collapsed": false
   },
   "outputs": [
    {
     "data": {
      "text/plain": [
       "tekmovalec\n",
       "SCHLIERENZAUER Gregor     7.807512\n",
       "MORGENSTERN Thomas        8.639785\n",
       "MALYSZ Adam               9.813953\n",
       "AMMANN Simon             10.921875\n",
       "PREVC Peter              11.144578\n",
       "KRAFT Stefan             12.063158\n",
       "FORFANG Johann Andre     12.297872\n",
       "FREUND Severin           12.551913\n",
       "JACOBSEN Anders          13.765432\n",
       "BARDAL Anders            13.893023\n",
       "PREVC Domen              15.055556\n",
       "AHONEN Janne             15.271186\n",
       "                           ...    \n",
       "LEVKIN Yevgeniy          50.800000\n",
       "ANTONISSEN Lars          51.000000\n",
       "DE CRIGNIS Alessio       51.000000\n",
       "JURIS Jaan               51.000000\n",
       "SAMMELSELG Siim-Tanel    51.500000\n",
       "MUMINOV Sabirzhan        51.500000\n",
       "KANG Chil Gu             51.666667\n",
       "NOMME Martti             52.250000\n",
       "PCHELINTSEV Alexey       53.000000\n",
       "PAERN Illimar            53.000000\n",
       "NORDIN Carl              53.000000\n",
       "LAMB Chris               62.000000\n",
       "Name: mesto, dtype: float64"
      ]
     },
     "execution_count": 75,
     "metadata": {},
     "output_type": "execute_result"
    }
   ],
   "source": [
    "razvrstitve = rezultati.merge(tekmovalci, on='id_tekmovalca')[['mesto', 'tekmovalec']]\n",
    "razvrstitve.groupby('tekmovalec').mean().sort_values('mesto', ascending=True)['mesto']"
   ]
  },
  {
   "cell_type": "markdown",
   "metadata": {},
   "source": [
    "Rezultati so v skladu s pričakovanji, saj prva mesta na lestvici zasedajo sama zveneča imena tega športa. Pri podrobnejšem pregledu pa opazimo, da se razen Adama Malysza na prvih mestih nahajajo samo skakalci, ki so še vedno aktivni ali pa so svojo kariero končali v zadnjih dveh letih. Do odstopanj najverjetneje pride zaradi povečanega števila tekem na sezono v zadnjih nekaj letih, s čimer se poveča možnost za doseganje dobrih uvrstitev v primeru, da je tekmovalec v formi. Zaradi načina izbire podatkov pa se tekmovalec v podatkih pojavi le, če se je na tekmo kvalificiral, kar pomeni, da se morebiten slab skok v kvalifikacijah in s tem odsotnost na tekmi, v naših podatkih ne pokaže. Zasledimo tudi, da se Domen Prevc, kljub svoji mladosti nahaja na zelo visokem mestu, kar je posledica majhnega števila tekem na katerih je tekmoval, a dobrih uvrstitev na njih."
   ]
  },
  {
   "cell_type": "code",
   "execution_count": 78,
   "metadata": {
    "collapsed": false
   },
   "outputs": [
    {
     "data": {
      "text/plain": [
       "tekmovalec\n",
       "AMMANN Simon             68521.8\n",
       "STOCH Kamil              57118.0\n",
       "SCHLIERENZAUER Gregor    55737.5\n",
       "KRANJEC Robert           55280.7\n",
       "BARDAL Anders            54355.9\n",
       "KOFLER Andreas           52454.2\n",
       "KASAI Noriaki            50911.0\n",
       "NEUMAYER Michael         50657.0\n",
       "LOITZL Wolfgang          50017.6\n",
       "MORGENSTERN Thomas       48286.0\n",
       "ITO Daiki                46668.4\n",
       "KOCH Martin              44772.6\n",
       "                          ...   \n",
       "DE CRIGNIS Alessio          54.9\n",
       "ZAPOTOCZNY Andrzej          54.5\n",
       "KARPENKO Anatoliy           51.6\n",
       "UMEZAKI Keita               46.7\n",
       "KJELSTRUP Eirik             46.2\n",
       "KADLEC Milos                39.9\n",
       "OSANAI Yoshihiko            37.6\n",
       "AALTO Antti                 36.1\n",
       "GRIMHOLM Jakob              35.9\n",
       "PLEKHOV Evgeni              27.6\n",
       "KOBELEV Valery              20.4\n",
       "SILAEV Alexey               12.0\n",
       "Name: tocke, dtype: float64"
      ]
     },
     "execution_count": 78,
     "metadata": {},
     "output_type": "execute_result"
    }
   ],
   "source": [
    "razvrstitve_tek = rezultati.merge(tekmovalci, on='id_tekmovalca')[['tocke', 'tekmovalec']]\n",
    "razvrstitve_tekmovalec = razvrstitve_tek.groupby('tekmovalec').sum().sort_values('tocke', ascending=False)['tocke']\n",
    "razvrstitve_tekmovalec"
   ]
  },
  {
   "cell_type": "markdown",
   "metadata": {},
   "source": [
    "Vidimo, da se na vrhu pojavijo določeni tekmovalci, ki jih v prejšnjem primeru ni bilo. To je zaradi tega, ker so ti skakalci najverjetneje zelo dobri letalci (Robert Kranjec, Kamil Stoch) in so na letalnicah dosegali zelo dobre rezultate, kar pomeni, da so si priskakali večje število točk (glede na to, katere točke gledamo), lahko so dobili celo do dvakrat več točk kot na tekmi na kateri od manjših skakalnic."
   ]
  },
  {
   "cell_type": "markdown",
   "metadata": {},
   "source": [
    "Če na podoben način izračunamo še povprečne uvrstitve držav v tem časovnem obdobju, ni prav nič presenetljivo, da se na vrhu razpredelnice pojavi Avstrija. Kar pa malo zbode v oči, je uvrstitev Švice na tretje mesto. To je posledica dejstva, da je bil Simon Ammann večino tega obdobja edini stalni član švicarske reprezentance in je za svojo državo dosegal dobre uvrstitve, ostali člani pa se večinoma niso kvalificirali na tekmo."
   ]
  },
  {
   "cell_type": "code",
   "execution_count": 80,
   "metadata": {
    "collapsed": false
   },
   "outputs": [
    {
     "data": {
      "text/plain": [
       "drzava\n",
       "AUT    17.701918\n",
       "NOR    20.281875\n",
       "SUI    20.949833\n",
       "GER    22.815710\n",
       "SLO    25.432295\n",
       "JPN    26.063439\n",
       "FIN    26.151402\n",
       "POL    26.406375\n",
       "CZE    27.639648\n",
       "FRA    30.607330\n",
       "RUS    30.668478\n",
       "ITA    34.437500\n",
       "BUL    35.175676\n",
       "CAN    37.359551\n",
       "GRE    39.000000\n",
       "Name: mesto, dtype: float64"
      ]
     },
     "execution_count": 80,
     "metadata": {},
     "output_type": "execute_result"
    }
   ],
   "source": [
    "razvrstitve_drz = rezultati.merge(tekmovalci, on='id_tekmovalca')[['mesto', 'tekmovalec', 'drzava']]\n",
    "razvrstitve_drz.groupby('drzava').mean().sort_values('mesto', ascending=True)['mesto'][:15]"
   ]
  },
  {
   "cell_type": "markdown",
   "metadata": {},
   "source": [
    "Da bi dobili bolj realno stanje držav v svetovnem pokalu, seštejemo število točk, ki so jih tekmovalci v tem času dosegli za svojo državo. (Točke v tem primeru niso mišljene kot število točk, ki jih tekmovalec dobi za uvrstitev med 30 najboljših na tekmi - zmagovalec 100,..., ampak kot število točk, ki ga je skakalec dobil glede na dolžino skoka in sodniške ocene.)"
   ]
  },
  {
   "cell_type": "code",
   "execution_count": 81,
   "metadata": {
    "collapsed": false
   },
   "outputs": [
    {
     "data": {
      "text/plain": [
       "drzava\n",
       "AUT    415815.5\n",
       "NOR    389173.4\n",
       "GER    337815.7\n",
       "SLO    269916.6\n",
       "POL    248520.2\n",
       "JPN    224281.6\n",
       "FIN    204684.6\n",
       "CZE    200677.7\n",
       "SUI    133191.7\n",
       "RUS    116443.9\n",
       "FRA     62759.7\n",
       "ITA     46108.0\n",
       "KAZ     19195.9\n",
       "USA     16786.5\n",
       "CAN     11326.7\n",
       "Name: tocke, dtype: float64"
      ]
     },
     "execution_count": 81,
     "metadata": {},
     "output_type": "execute_result"
    }
   ],
   "source": [
    "razvrstitve_drzave = rezultati.merge(tekmovalci, on='id_tekmovalca')[['tocke', 'tekmovalec', 'drzava']]\n",
    "drzave = razvrstitve_drzave.groupby('drzava').sum().sort_values('tocke', ascending=False)['tocke'][:15]\n",
    "drzave"
   ]
  },
  {
   "cell_type": "markdown",
   "metadata": {},
   "source": [
    "V tem primeru so dobljeni podatki veliko bolj v skladu s pričakovanji in odražajo realno stanje v svetovnem pokalu v tem obdobju."
   ]
  },
  {
   "cell_type": "code",
   "execution_count": 82,
   "metadata": {
    "collapsed": false
   },
   "outputs": [
    {
     "data": {
      "text/plain": [
       "<matplotlib.axes._subplots.AxesSubplot at 0xdae59b4400>"
      ]
     },
     "execution_count": 82,
     "metadata": {},
     "output_type": "execute_result"
    },
    {
     "data": {
      "image/png": "[encoded data removed]",
      "text/plain": [
       "<matplotlib.figure.Figure at 0xdae5997b00>"
      ]
     },
     "metadata": {},
     "output_type": "display_data"
    }
   ],
   "source": [
    "drzave.plot(kind='bar', title='Število osvojenih točk po državah')"
   ]
  },
  {
   "cell_type": "markdown",
   "metadata": {},
   "source": [
    "## 2. Uspešnost tekmovalcev med 2005/06 in 2015/16"
   ]
  },
  {
   "cell_type": "markdown",
   "metadata": {},
   "source": [
    "Ker bi želeli imeti natančnejši pregled uvrstitev posameznih tekmovalcev za izbrano časovno obdobje, izberemo 5 kriterijev glede na katere bomo primerjali njihovo uspešnost. To so : število uvrstitev med 30 najboljših (uvrstitev v 2. serijo tekme), število uvrstitev med 10 najboljših ter število tretjih, drugih in prvih mest."
   ]
  },
  {
   "cell_type": "code",
   "execution_count": 83,
   "metadata": {
    "collapsed": false
   },
   "outputs": [
    {
     "data": {
      "text/html": [
       "<div>\n",
       "<table border=\"1\" class=\"dataframe\">\n",
       "  <thead>\n",
       "    <tr style=\"text-align: right;\">\n",
       "      <th></th>\n",
       "      <th>1.mesto</th>\n",
       "      <th>2.mesto</th>\n",
       "      <th>3.mesto</th>\n",
       "      <th>med 10</th>\n",
       "      <th>med 30</th>\n",
       "    </tr>\n",
       "  </thead>\n",
       "  <tbody>\n",
       "    <tr>\n",
       "      <th>AARAAS Jon</th>\n",
       "      <td>NaN</td>\n",
       "      <td>NaN</td>\n",
       "      <td>NaN</td>\n",
       "      <td>NaN</td>\n",
       "      <td>7</td>\n",
       "    </tr>\n",
       "    <tr>\n",
       "      <th>AHONEN Janne</th>\n",
       "      <td>6.0</td>\n",
       "      <td>10.0</td>\n",
       "      <td>5.0</td>\n",
       "      <td>58.0</td>\n",
       "      <td>98</td>\n",
       "    </tr>\n",
       "    <tr>\n",
       "      <th>AIGNER Clemens</th>\n",
       "      <td>NaN</td>\n",
       "      <td>NaN</td>\n",
       "      <td>NaN</td>\n",
       "      <td>NaN</td>\n",
       "      <td>1</td>\n",
       "    </tr>\n",
       "    <tr>\n",
       "      <th>ALBORN Alan</th>\n",
       "      <td>NaN</td>\n",
       "      <td>NaN</td>\n",
       "      <td>NaN</td>\n",
       "      <td>NaN</td>\n",
       "      <td>1</td>\n",
       "    </tr>\n",
       "    <tr>\n",
       "      <th>ALEXANDER Nicholas</th>\n",
       "      <td>NaN</td>\n",
       "      <td>NaN</td>\n",
       "      <td>NaN</td>\n",
       "      <td>NaN</td>\n",
       "      <td>1</td>\n",
       "    </tr>\n",
       "    <tr>\n",
       "      <th>AMMANN Simon</th>\n",
       "      <td>22.0</td>\n",
       "      <td>25.0</td>\n",
       "      <td>23.0</td>\n",
       "      <td>152.0</td>\n",
       "      <td>240</td>\n",
       "    </tr>\n",
       "    <tr>\n",
       "      <th>AREN Andreas</th>\n",
       "      <td>NaN</td>\n",
       "      <td>NaN</td>\n",
       "      <td>NaN</td>\n",
       "      <td>NaN</td>\n",
       "      <td>5</td>\n",
       "    </tr>\n",
       "    <tr>\n",
       "      <th>ASCHENWALD Philipp</th>\n",
       "      <td>NaN</td>\n",
       "      <td>NaN</td>\n",
       "      <td>NaN</td>\n",
       "      <td>NaN</td>\n",
       "      <td>7</td>\n",
       "    </tr>\n",
       "    <tr>\n",
       "      <th>ASIKAINEN Lauri</th>\n",
       "      <td>NaN</td>\n",
       "      <td>NaN</td>\n",
       "      <td>NaN</td>\n",
       "      <td>4.0</td>\n",
       "      <td>25</td>\n",
       "    </tr>\n",
       "    <tr>\n",
       "      <th>BACHLEDA Marcin</th>\n",
       "      <td>NaN</td>\n",
       "      <td>NaN</td>\n",
       "      <td>NaN</td>\n",
       "      <td>NaN</td>\n",
       "      <td>9</td>\n",
       "    </tr>\n",
       "    <tr>\n",
       "      <th>BALKAASEN Fredrik</th>\n",
       "      <td>NaN</td>\n",
       "      <td>NaN</td>\n",
       "      <td>NaN</td>\n",
       "      <td>NaN</td>\n",
       "      <td>1</td>\n",
       "    </tr>\n",
       "    <tr>\n",
       "      <th>BARDAL Anders</th>\n",
       "      <td>7.0</td>\n",
       "      <td>13.0</td>\n",
       "      <td>14.0</td>\n",
       "      <td>100.0</td>\n",
       "      <td>193</td>\n",
       "    </tr>\n",
       "    <tr>\n",
       "      <th>...</th>\n",
       "      <td>...</td>\n",
       "      <td>...</td>\n",
       "      <td>...</td>\n",
       "      <td>...</td>\n",
       "      <td>...</td>\n",
       "    </tr>\n",
       "    <tr>\n",
       "      <th>YAMADA Hiroki</th>\n",
       "      <td>NaN</td>\n",
       "      <td>NaN</td>\n",
       "      <td>NaN</td>\n",
       "      <td>NaN</td>\n",
       "      <td>2</td>\n",
       "    </tr>\n",
       "    <tr>\n",
       "      <th>YLIRIESTO Kimmo</th>\n",
       "      <td>NaN</td>\n",
       "      <td>NaN</td>\n",
       "      <td>NaN</td>\n",
       "      <td>NaN</td>\n",
       "      <td>3</td>\n",
       "    </tr>\n",
       "    <tr>\n",
       "      <th>YOSHIOKA Kazuya</th>\n",
       "      <td>NaN</td>\n",
       "      <td>NaN</td>\n",
       "      <td>NaN</td>\n",
       "      <td>NaN</td>\n",
       "      <td>6</td>\n",
       "    </tr>\n",
       "    <tr>\n",
       "      <th>YUMOTO Fumihisa</th>\n",
       "      <td>1.0</td>\n",
       "      <td>NaN</td>\n",
       "      <td>NaN</td>\n",
       "      <td>3.0</td>\n",
       "      <td>30</td>\n",
       "    </tr>\n",
       "    <tr>\n",
       "      <th>ZAUNER David</th>\n",
       "      <td>NaN</td>\n",
       "      <td>NaN</td>\n",
       "      <td>NaN</td>\n",
       "      <td>12.0</td>\n",
       "      <td>25</td>\n",
       "    </tr>\n",
       "    <tr>\n",
       "      <th>ZHAPAROV Radik</th>\n",
       "      <td>NaN</td>\n",
       "      <td>NaN</td>\n",
       "      <td>NaN</td>\n",
       "      <td>NaN</td>\n",
       "      <td>9</td>\n",
       "    </tr>\n",
       "    <tr>\n",
       "      <th>ZIOBRO Jan</th>\n",
       "      <td>1.0</td>\n",
       "      <td>NaN</td>\n",
       "      <td>1.0</td>\n",
       "      <td>3.0</td>\n",
       "      <td>20</td>\n",
       "    </tr>\n",
       "    <tr>\n",
       "      <th>ZNISZCZOL Aleksander</th>\n",
       "      <td>NaN</td>\n",
       "      <td>NaN</td>\n",
       "      <td>NaN</td>\n",
       "      <td>1.0</td>\n",
       "      <td>15</td>\n",
       "    </tr>\n",
       "    <tr>\n",
       "      <th>ZOGRAFSKI Vladimir</th>\n",
       "      <td>NaN</td>\n",
       "      <td>NaN</td>\n",
       "      <td>NaN</td>\n",
       "      <td>2.0</td>\n",
       "      <td>28</td>\n",
       "    </tr>\n",
       "    <tr>\n",
       "      <th>ZONTA Peter</th>\n",
       "      <td>NaN</td>\n",
       "      <td>NaN</td>\n",
       "      <td>NaN</td>\n",
       "      <td>NaN</td>\n",
       "      <td>1</td>\n",
       "    </tr>\n",
       "    <tr>\n",
       "      <th>ZUPAN Bine</th>\n",
       "      <td>NaN</td>\n",
       "      <td>NaN</td>\n",
       "      <td>NaN</td>\n",
       "      <td>NaN</td>\n",
       "      <td>2</td>\n",
       "    </tr>\n",
       "    <tr>\n",
       "      <th>ZYLA Piotr</th>\n",
       "      <td>1.0</td>\n",
       "      <td>NaN</td>\n",
       "      <td>1.0</td>\n",
       "      <td>21.0</td>\n",
       "      <td>101</td>\n",
       "    </tr>\n",
       "  </tbody>\n",
       "</table>\n",
       "<p>252 rows × 5 columns</p>\n",
       "</div>"
      ],
      "text/plain": [
       "                      1.mesto  2.mesto  3.mesto  med 10  med 30\n",
       "AARAAS Jon                NaN      NaN      NaN     NaN       7\n",
       "AHONEN Janne              6.0     10.0      5.0    58.0      98\n",
       "AIGNER Clemens            NaN      NaN      NaN     NaN       1\n",
       "ALBORN Alan               NaN      NaN      NaN     NaN       1\n",
       "ALEXANDER Nicholas        NaN      NaN      NaN     NaN       1\n",
       "AMMANN Simon             22.0     25.0     23.0   152.0     240\n",
       "AREN Andreas              NaN      NaN      NaN     NaN       5\n",
       "ASCHENWALD Philipp        NaN      NaN      NaN     NaN       7\n",
       "ASIKAINEN Lauri           NaN      NaN      NaN     4.0      25\n",
       "BACHLEDA Marcin           NaN      NaN      NaN     NaN       9\n",
       "BALKAASEN Fredrik         NaN      NaN      NaN     NaN       1\n",
       "BARDAL Anders             7.0     13.0     14.0   100.0     193\n",
       "...                       ...      ...      ...     ...     ...\n",
       "YAMADA Hiroki             NaN      NaN      NaN     NaN       2\n",
       "YLIRIESTO Kimmo           NaN      NaN      NaN     NaN       3\n",
       "YOSHIOKA Kazuya           NaN      NaN      NaN     NaN       6\n",
       "YUMOTO Fumihisa           1.0      NaN      NaN     3.0      30\n",
       "ZAUNER David              NaN      NaN      NaN    12.0      25\n",
       "ZHAPAROV Radik            NaN      NaN      NaN     NaN       9\n",
       "ZIOBRO Jan                1.0      NaN      1.0     3.0      20\n",
       "ZNISZCZOL Aleksander      NaN      NaN      NaN     1.0      15\n",
       "ZOGRAFSKI Vladimir        NaN      NaN      NaN     2.0      28\n",
       "ZONTA Peter               NaN      NaN      NaN     NaN       1\n",
       "ZUPAN Bine                NaN      NaN      NaN     NaN       2\n",
       "ZYLA Piotr                1.0      NaN      1.0    21.0     101\n",
       "\n",
       "[252 rows x 5 columns]"
      ]
     },
     "execution_count": 83,
     "metadata": {},
     "output_type": "execute_result"
    }
   ],
   "source": [
    "med_30 = razvrstitve[razvrstitve.mesto<31]\n",
    "med_30_max = med_30['tekmovalec'].value_counts()\n",
    "med_10 = razvrstitve[razvrstitve.mesto<11]\n",
    "med_10_max = med_10['tekmovalec'].value_counts()\n",
    "tretji = razvrstitve[razvrstitve.mesto==3]\n",
    "tretji_max = tretji['tekmovalec'].value_counts()\n",
    "drugi = razvrstitve[razvrstitve.mesto==2]\n",
    "drugi_max = drugi['tekmovalec'].value_counts()\n",
    "prvi = razvrstitve[razvrstitve.mesto==1]\n",
    "prvi_max = prvi['tekmovalec'].value_counts()\n",
    "\n",
    "urejene_uvrstitve = {'1.mesto':prvi_max, '2.mesto':drugi_max, '3.mesto':tretji_max, 'med 10':med_10_max, 'med 30':med_30_max}\n",
    "pd.DataFrame(urejene_uvrstitve)"
   ]
  },
  {
   "cell_type": "markdown",
   "metadata": {},
   "source": [
    "Tekmovalce najprej razporedimo v tabelo tako, da dobimo podatke za vsakega skakalca posebej. Ker pa vidimo, da nekateri skakalci nimajo uvrstitev, ki bi ustrezale izbranim kriterijem, je bolje, da predstavimo 10 najboljših za vsako kategorijo posebej."
   ]
  },
  {
   "cell_type": "code",
   "execution_count": 85,
   "metadata": {
    "collapsed": false
   },
   "outputs": [
    {
     "data": {
      "text/html": [
       "<div>\n",
       "<table border=\"1\" class=\"dataframe\">\n",
       "  <thead>\n",
       "    <tr style=\"text-align: right;\">\n",
       "      <th></th>\n",
       "      <th>med 30</th>\n",
       "    </tr>\n",
       "  </thead>\n",
       "  <tbody>\n",
       "    <tr>\n",
       "      <th>AMMANN Simon</th>\n",
       "      <td>240</td>\n",
       "    </tr>\n",
       "    <tr>\n",
       "      <th>SCHLIERENZAUER Gregor</th>\n",
       "      <td>207</td>\n",
       "    </tr>\n",
       "    <tr>\n",
       "      <th>BARDAL Anders</th>\n",
       "      <td>193</td>\n",
       "    </tr>\n",
       "    <tr>\n",
       "      <th>STOCH Kamil</th>\n",
       "      <td>185</td>\n",
       "    </tr>\n",
       "    <tr>\n",
       "      <th>NEUMAYER Michael</th>\n",
       "      <td>182</td>\n",
       "    </tr>\n",
       "    <tr>\n",
       "      <th>KASAI Noriaki</th>\n",
       "      <td>180</td>\n",
       "    </tr>\n",
       "    <tr>\n",
       "      <th>LOITZL Wolfgang</th>\n",
       "      <td>180</td>\n",
       "    </tr>\n",
       "    <tr>\n",
       "      <th>KOFLER Andreas</th>\n",
       "      <td>180</td>\n",
       "    </tr>\n",
       "    <tr>\n",
       "      <th>MORGENSTERN Thomas</th>\n",
       "      <td>178</td>\n",
       "    </tr>\n",
       "    <tr>\n",
       "      <th>KRANJEC Robert</th>\n",
       "      <td>174</td>\n",
       "    </tr>\n",
       "  </tbody>\n",
       "</table>\n",
       "</div>"
      ],
      "text/plain": [
       "                       med 30\n",
       "AMMANN Simon              240\n",
       "SCHLIERENZAUER Gregor     207\n",
       "BARDAL Anders             193\n",
       "STOCH Kamil               185\n",
       "NEUMAYER Michael          182\n",
       "KASAI Noriaki             180\n",
       "LOITZL Wolfgang           180\n",
       "KOFLER Andreas            180\n",
       "MORGENSTERN Thomas        178\n",
       "KRANJEC Robert            174"
      ]
     },
     "execution_count": 85,
     "metadata": {},
     "output_type": "execute_result"
    }
   ],
   "source": [
    "urejeno_30 = {'med 30':med_30_max}\n",
    "pd.DataFrame(urejeno_30)[:10]"
   ]
  },
  {
   "cell_type": "code",
   "execution_count": 86,
   "metadata": {
    "collapsed": false
   },
   "outputs": [
    {
     "data": {
      "text/html": [
       "<div>\n",
       "<table border=\"1\" class=\"dataframe\">\n",
       "  <thead>\n",
       "    <tr style=\"text-align: right;\">\n",
       "      <th></th>\n",
       "      <th>med 10</th>\n",
       "    </tr>\n",
       "  </thead>\n",
       "  <tbody>\n",
       "    <tr>\n",
       "      <th>SCHLIERENZAUER Gregor</th>\n",
       "      <td>156</td>\n",
       "    </tr>\n",
       "    <tr>\n",
       "      <th>AMMANN Simon</th>\n",
       "      <td>152</td>\n",
       "    </tr>\n",
       "    <tr>\n",
       "      <th>MORGENSTERN Thomas</th>\n",
       "      <td>133</td>\n",
       "    </tr>\n",
       "    <tr>\n",
       "      <th>FREUND Severin</th>\n",
       "      <td>118</td>\n",
       "    </tr>\n",
       "    <tr>\n",
       "      <th>KOFLER Andreas</th>\n",
       "      <td>100</td>\n",
       "    </tr>\n",
       "    <tr>\n",
       "      <th>BARDAL Anders</th>\n",
       "      <td>100</td>\n",
       "    </tr>\n",
       "    <tr>\n",
       "      <th>PREVC Peter</th>\n",
       "      <td>91</td>\n",
       "    </tr>\n",
       "    <tr>\n",
       "      <th>MALYSZ Adam</th>\n",
       "      <td>89</td>\n",
       "    </tr>\n",
       "    <tr>\n",
       "      <th>STOCH Kamil</th>\n",
       "      <td>88</td>\n",
       "    </tr>\n",
       "    <tr>\n",
       "      <th>KASAI Noriaki</th>\n",
       "      <td>86</td>\n",
       "    </tr>\n",
       "  </tbody>\n",
       "</table>\n",
       "</div>"
      ],
      "text/plain": [
       "                       med 10\n",
       "SCHLIERENZAUER Gregor     156\n",
       "AMMANN Simon              152\n",
       "MORGENSTERN Thomas        133\n",
       "FREUND Severin            118\n",
       "KOFLER Andreas            100\n",
       "BARDAL Anders             100\n",
       "PREVC Peter                91\n",
       "MALYSZ Adam                89\n",
       "STOCH Kamil                88\n",
       "KASAI Noriaki              86"
      ]
     },
     "execution_count": 86,
     "metadata": {},
     "output_type": "execute_result"
    }
   ],
   "source": [
    "urejeno_10 = {'med 10':med_10_max}\n",
    "pd.DataFrame(urejeno_10)[:10]"
   ]
  },
  {
   "cell_type": "code",
   "execution_count": 87,
   "metadata": {
    "collapsed": false
   },
   "outputs": [
    {
     "data": {
      "text/html": [
       "<div>\n",
       "<table border=\"1\" class=\"dataframe\">\n",
       "  <thead>\n",
       "    <tr style=\"text-align: right;\">\n",
       "      <th></th>\n",
       "      <th>3.mesto</th>\n",
       "    </tr>\n",
       "  </thead>\n",
       "  <tbody>\n",
       "    <tr>\n",
       "      <th>AMMANN Simon</th>\n",
       "      <td>23</td>\n",
       "    </tr>\n",
       "    <tr>\n",
       "      <th>MORGENSTERN Thomas</th>\n",
       "      <td>19</td>\n",
       "    </tr>\n",
       "    <tr>\n",
       "      <th>FREUND Severin</th>\n",
       "      <td>16</td>\n",
       "    </tr>\n",
       "    <tr>\n",
       "      <th>KASAI Noriaki</th>\n",
       "      <td>15</td>\n",
       "    </tr>\n",
       "    <tr>\n",
       "      <th>SCHLIERENZAUER Gregor</th>\n",
       "      <td>15</td>\n",
       "    </tr>\n",
       "    <tr>\n",
       "      <th>BARDAL Anders</th>\n",
       "      <td>14</td>\n",
       "    </tr>\n",
       "    <tr>\n",
       "      <th>MALYSZ Adam</th>\n",
       "      <td>13</td>\n",
       "    </tr>\n",
       "    <tr>\n",
       "      <th>KRANJEC Robert</th>\n",
       "      <td>12</td>\n",
       "    </tr>\n",
       "    <tr>\n",
       "      <th>PREVC Peter</th>\n",
       "      <td>11</td>\n",
       "    </tr>\n",
       "    <tr>\n",
       "      <th>KOCH Martin</th>\n",
       "      <td>10</td>\n",
       "    </tr>\n",
       "  </tbody>\n",
       "</table>\n",
       "</div>"
      ],
      "text/plain": [
       "                       3.mesto\n",
       "AMMANN Simon                23\n",
       "MORGENSTERN Thomas          19\n",
       "FREUND Severin              16\n",
       "KASAI Noriaki               15\n",
       "SCHLIERENZAUER Gregor       15\n",
       "BARDAL Anders               14\n",
       "MALYSZ Adam                 13\n",
       "KRANJEC Robert              12\n",
       "PREVC Peter                 11\n",
       "KOCH Martin                 10"
      ]
     },
     "execution_count": 87,
     "metadata": {},
     "output_type": "execute_result"
    }
   ],
   "source": [
    "urejeno_03 = {'3.mesto':tretji_max}\n",
    "pd.DataFrame(urejeno_03)[:10]"
   ]
  },
  {
   "cell_type": "code",
   "execution_count": 88,
   "metadata": {
    "collapsed": false
   },
   "outputs": [
    {
     "data": {
      "text/html": [
       "<div>\n",
       "<table border=\"1\" class=\"dataframe\">\n",
       "  <thead>\n",
       "    <tr style=\"text-align: right;\">\n",
       "      <th></th>\n",
       "      <th>2.mesto</th>\n",
       "    </tr>\n",
       "  </thead>\n",
       "  <tbody>\n",
       "    <tr>\n",
       "      <th>AMMANN Simon</th>\n",
       "      <td>25</td>\n",
       "    </tr>\n",
       "    <tr>\n",
       "      <th>MORGENSTERN Thomas</th>\n",
       "      <td>24</td>\n",
       "    </tr>\n",
       "    <tr>\n",
       "      <th>SCHLIERENZAUER Gregor</th>\n",
       "      <td>20</td>\n",
       "    </tr>\n",
       "    <tr>\n",
       "      <th>PREVC Peter</th>\n",
       "      <td>17</td>\n",
       "    </tr>\n",
       "    <tr>\n",
       "      <th>FREUND Severin</th>\n",
       "      <td>14</td>\n",
       "    </tr>\n",
       "    <tr>\n",
       "      <th>BARDAL Anders</th>\n",
       "      <td>13</td>\n",
       "    </tr>\n",
       "    <tr>\n",
       "      <th>KOFLER Andreas</th>\n",
       "      <td>12</td>\n",
       "    </tr>\n",
       "    <tr>\n",
       "      <th>JACOBSEN Anders</th>\n",
       "      <td>10</td>\n",
       "    </tr>\n",
       "    <tr>\n",
       "      <th>AHONEN Janne</th>\n",
       "      <td>10</td>\n",
       "    </tr>\n",
       "    <tr>\n",
       "      <th>KRAFT Stefan</th>\n",
       "      <td>9</td>\n",
       "    </tr>\n",
       "  </tbody>\n",
       "</table>\n",
       "</div>"
      ],
      "text/plain": [
       "                       2.mesto\n",
       "AMMANN Simon                25\n",
       "MORGENSTERN Thomas          24\n",
       "SCHLIERENZAUER Gregor       20\n",
       "PREVC Peter                 17\n",
       "FREUND Severin              14\n",
       "BARDAL Anders               13\n",
       "KOFLER Andreas              12\n",
       "JACOBSEN Anders             10\n",
       "AHONEN Janne                10\n",
       "KRAFT Stefan                 9"
      ]
     },
     "execution_count": 88,
     "metadata": {},
     "output_type": "execute_result"
    }
   ],
   "source": [
    "urejeno_02 = {'2.mesto':drugi_max}\n",
    "pd.DataFrame(urejeno_02)[:10]"
   ]
  },
  {
   "cell_type": "code",
   "execution_count": 89,
   "metadata": {
    "collapsed": false
   },
   "outputs": [
    {
     "data": {
      "text/html": [
       "<div>\n",
       "<table border=\"1\" class=\"dataframe\">\n",
       "  <thead>\n",
       "    <tr style=\"text-align: right;\">\n",
       "      <th></th>\n",
       "      <th>1.mesto</th>\n",
       "    </tr>\n",
       "  </thead>\n",
       "  <tbody>\n",
       "    <tr>\n",
       "      <th>SCHLIERENZAUER Gregor</th>\n",
       "      <td>52</td>\n",
       "    </tr>\n",
       "    <tr>\n",
       "      <th>MORGENSTERN Thomas</th>\n",
       "      <td>22</td>\n",
       "    </tr>\n",
       "    <tr>\n",
       "      <th>AMMANN Simon</th>\n",
       "      <td>22</td>\n",
       "    </tr>\n",
       "    <tr>\n",
       "      <th>PREVC Peter</th>\n",
       "      <td>21</td>\n",
       "    </tr>\n",
       "    <tr>\n",
       "      <th>FREUND Severin</th>\n",
       "      <td>21</td>\n",
       "    </tr>\n",
       "    <tr>\n",
       "      <th>STOCH Kamil</th>\n",
       "      <td>15</td>\n",
       "    </tr>\n",
       "    <tr>\n",
       "      <th>KOFLER Andreas</th>\n",
       "      <td>12</td>\n",
       "    </tr>\n",
       "    <tr>\n",
       "      <th>MALYSZ Adam</th>\n",
       "      <td>11</td>\n",
       "    </tr>\n",
       "    <tr>\n",
       "      <th>JACOBSEN Anders</th>\n",
       "      <td>10</td>\n",
       "    </tr>\n",
       "    <tr>\n",
       "      <th>KRANJEC Robert</th>\n",
       "      <td>7</td>\n",
       "    </tr>\n",
       "  </tbody>\n",
       "</table>\n",
       "</div>"
      ],
      "text/plain": [
       "                       1.mesto\n",
       "SCHLIERENZAUER Gregor       52\n",
       "MORGENSTERN Thomas          22\n",
       "AMMANN Simon                22\n",
       "PREVC Peter                 21\n",
       "FREUND Severin              21\n",
       "STOCH Kamil                 15\n",
       "KOFLER Andreas              12\n",
       "MALYSZ Adam                 11\n",
       "JACOBSEN Anders             10\n",
       "KRANJEC Robert               7"
      ]
     },
     "execution_count": 89,
     "metadata": {},
     "output_type": "execute_result"
    }
   ],
   "source": [
    "urejeno_01 = {'1.mesto':prvi_max}\n",
    "pd.DataFrame(urejeno_01)[:10]"
   ]
  },
  {
   "cell_type": "markdown",
   "metadata": {},
   "source": [
    "V tabelo z 10 tekmovalci z največ osvojenimi zmagami v zadnjih 10 letih, dodamo še število osvojenih 2. in 3. mest, da lahko te podatke malo primerjamo med seboj."
   ]
  },
  {
   "cell_type": "code",
   "execution_count": 90,
   "metadata": {
    "collapsed": false
   },
   "outputs": [
    {
     "data": {
      "text/html": [
       "<div>\n",
       "<table border=\"1\" class=\"dataframe\">\n",
       "  <thead>\n",
       "    <tr style=\"text-align: right;\">\n",
       "      <th></th>\n",
       "      <th>1.mesto</th>\n",
       "      <th>2.mesto</th>\n",
       "      <th>3.mesto</th>\n",
       "    </tr>\n",
       "  </thead>\n",
       "  <tbody>\n",
       "    <tr>\n",
       "      <th>SCHLIERENZAUER Gregor</th>\n",
       "      <td>52</td>\n",
       "      <td>20</td>\n",
       "      <td>15</td>\n",
       "    </tr>\n",
       "    <tr>\n",
       "      <th>MORGENSTERN Thomas</th>\n",
       "      <td>22</td>\n",
       "      <td>24</td>\n",
       "      <td>19</td>\n",
       "    </tr>\n",
       "    <tr>\n",
       "      <th>AMMANN Simon</th>\n",
       "      <td>22</td>\n",
       "      <td>25</td>\n",
       "      <td>23</td>\n",
       "    </tr>\n",
       "    <tr>\n",
       "      <th>FREUND Severin</th>\n",
       "      <td>21</td>\n",
       "      <td>14</td>\n",
       "      <td>16</td>\n",
       "    </tr>\n",
       "    <tr>\n",
       "      <th>PREVC Peter</th>\n",
       "      <td>21</td>\n",
       "      <td>17</td>\n",
       "      <td>11</td>\n",
       "    </tr>\n",
       "    <tr>\n",
       "      <th>STOCH Kamil</th>\n",
       "      <td>15</td>\n",
       "      <td>8</td>\n",
       "      <td>8</td>\n",
       "    </tr>\n",
       "    <tr>\n",
       "      <th>KOFLER Andreas</th>\n",
       "      <td>12</td>\n",
       "      <td>12</td>\n",
       "      <td>9</td>\n",
       "    </tr>\n",
       "    <tr>\n",
       "      <th>MALYSZ Adam</th>\n",
       "      <td>11</td>\n",
       "      <td>8</td>\n",
       "      <td>13</td>\n",
       "    </tr>\n",
       "    <tr>\n",
       "      <th>JACOBSEN Anders</th>\n",
       "      <td>10</td>\n",
       "      <td>10</td>\n",
       "      <td>8</td>\n",
       "    </tr>\n",
       "    <tr>\n",
       "      <th>BARDAL Anders</th>\n",
       "      <td>7</td>\n",
       "      <td>13</td>\n",
       "      <td>14</td>\n",
       "    </tr>\n",
       "  </tbody>\n",
       "</table>\n",
       "</div>"
      ],
      "text/plain": [
       "                       1.mesto  2.mesto  3.mesto\n",
       "SCHLIERENZAUER Gregor       52       20       15\n",
       "MORGENSTERN Thomas          22       24       19\n",
       "AMMANN Simon                22       25       23\n",
       "FREUND Severin              21       14       16\n",
       "PREVC Peter                 21       17       11\n",
       "STOCH Kamil                 15        8        8\n",
       "KOFLER Andreas              12       12        9\n",
       "MALYSZ Adam                 11        8       13\n",
       "JACOBSEN Anders             10       10        8\n",
       "BARDAL Anders                7       13       14"
      ]
     },
     "execution_count": 90,
     "metadata": {},
     "output_type": "execute_result"
    }
   ],
   "source": [
    "urejeno_stopnicke = {'1.mesto':prvi_max, '2.mesto':drugi_max, '3.mesto':tretji_max}\n",
    "stopnicke = pd.DataFrame(urejeno_stopnicke).sort_values('1.mesto', ascending=False)[:10]\n",
    "st = stopnicke.astype(int)\n",
    "st"
   ]
  },
  {
   "cell_type": "code",
   "execution_count": 91,
   "metadata": {
    "collapsed": false
   },
   "outputs": [
    {
     "data": {
      "text/plain": [
       "<matplotlib.axes._subplots.AxesSubplot at 0xdae6a50080>"
      ]
     },
     "execution_count": 91,
     "metadata": {},
     "output_type": "execute_result"
    },
    {
     "data": {
      "image/png": "[encoded data removed]",
      "text/plain": [
       "<matplotlib.figure.Figure at 0xdae6a22e10>"
      ]
     },
     "metadata": {},
     "output_type": "display_data"
    }
   ],
   "source": [
    "st.plot(kind = 'bar', stacked=True, title='Število 1., 2., 3. mest pri najuspešnejših 10 skakalcih')"
   ]
  },
  {
   "cell_type": "markdown",
   "metadata": {},
   "source": [
    "Glede na rezultate bi lahko sklepali, da je Gregor Schlierenzauer po številu zmag veliko pred vsemi ostalimi skakalci. Če gledamo samo rezultate tega obdobja to sicer drži, vendar se takšna razlika pojavi predvsem, ker analizirano obdobje zajema večino njegove kariere, medtem ko za druge skakalce (npr.: Adam Malysz) to obdobje predstavlja le (manjši) del kariere."
   ]
  },
  {
   "cell_type": "markdown",
   "metadata": {},
   "source": [
    "## 3. Prizorišča"
   ]
  },
  {
   "cell_type": "code",
   "execution_count": 93,
   "metadata": {
    "collapsed": false
   },
   "outputs": [
    {
     "data": {
      "text/html": [
       "<div>\n",
       "<table border=\"1\" class=\"dataframe\">\n",
       "  <thead>\n",
       "    <tr style=\"text-align: right;\">\n",
       "      <th></th>\n",
       "      <th>število tekem</th>\n",
       "    </tr>\n",
       "  </thead>\n",
       "  <tbody>\n",
       "    <tr>\n",
       "      <th>Engelberg</th>\n",
       "      <td>23</td>\n",
       "    </tr>\n",
       "    <tr>\n",
       "      <th>Planica</th>\n",
       "      <td>22</td>\n",
       "    </tr>\n",
       "    <tr>\n",
       "      <th>Lillehammer</th>\n",
       "      <td>22</td>\n",
       "    </tr>\n",
       "    <tr>\n",
       "      <th>Oberstdorf</th>\n",
       "      <td>18</td>\n",
       "    </tr>\n",
       "    <tr>\n",
       "      <th>Zakopane</th>\n",
       "      <td>18</td>\n",
       "    </tr>\n",
       "    <tr>\n",
       "      <th>Lahti</th>\n",
       "      <td>16</td>\n",
       "    </tr>\n",
       "    <tr>\n",
       "      <th>Sapporo</th>\n",
       "      <td>15</td>\n",
       "    </tr>\n",
       "    <tr>\n",
       "      <th>Bischofshofen</th>\n",
       "      <td>12</td>\n",
       "    </tr>\n",
       "    <tr>\n",
       "      <th>Willingen</th>\n",
       "      <td>12</td>\n",
       "    </tr>\n",
       "    <tr>\n",
       "      <th>Garmisch-Partenkirchen</th>\n",
       "      <td>11</td>\n",
       "    </tr>\n",
       "    <tr>\n",
       "      <th>Vikersund</th>\n",
       "      <td>11</td>\n",
       "    </tr>\n",
       "    <tr>\n",
       "      <th>Kuopio</th>\n",
       "      <td>11</td>\n",
       "    </tr>\n",
       "    <tr>\n",
       "      <th>...</th>\n",
       "      <td>...</td>\n",
       "    </tr>\n",
       "    <tr>\n",
       "      <th>Sapporo Okurayama</th>\n",
       "      <td>4</td>\n",
       "    </tr>\n",
       "    <tr>\n",
       "      <th>Nizhny Tagil</th>\n",
       "      <td>4</td>\n",
       "    </tr>\n",
       "    <tr>\n",
       "      <th>Val di Fiemme</th>\n",
       "      <td>4</td>\n",
       "    </tr>\n",
       "    <tr>\n",
       "      <th>Wisla</th>\n",
       "      <td>3</td>\n",
       "    </tr>\n",
       "    <tr>\n",
       "      <th>Almaty</th>\n",
       "      <td>2</td>\n",
       "    </tr>\n",
       "    <tr>\n",
       "      <th>Vancouver -Whistler Olympic Park</th>\n",
       "      <td>2</td>\n",
       "    </tr>\n",
       "    <tr>\n",
       "      <th>Sochi</th>\n",
       "      <td>2</td>\n",
       "    </tr>\n",
       "    <tr>\n",
       "      <th>Ruka</th>\n",
       "      <td>2</td>\n",
       "    </tr>\n",
       "    <tr>\n",
       "      <th>Pragelato</th>\n",
       "      <td>2</td>\n",
       "    </tr>\n",
       "    <tr>\n",
       "      <th>Villach</th>\n",
       "      <td>2</td>\n",
       "    </tr>\n",
       "    <tr>\n",
       "      <th>Liberec</th>\n",
       "      <td>2</td>\n",
       "    </tr>\n",
       "    <tr>\n",
       "      <th>Falun</th>\n",
       "      <td>1</td>\n",
       "    </tr>\n",
       "  </tbody>\n",
       "</table>\n",
       "<p>32 rows × 1 columns</p>\n",
       "</div>"
      ],
      "text/plain": [
       "                                  število tekem\n",
       "Engelberg                                    23\n",
       "Planica                                      22\n",
       "Lillehammer                                  22\n",
       "Oberstdorf                                   18\n",
       "Zakopane                                     18\n",
       "Lahti                                        16\n",
       "Sapporo                                      15\n",
       "Bischofshofen                                12\n",
       "Willingen                                    12\n",
       "Garmisch-Partenkirchen                       11\n",
       "Vikersund                                    11\n",
       "Kuopio                                       11\n",
       "...                                         ...\n",
       "Sapporo Okurayama                             4\n",
       "Nizhny Tagil                                  4\n",
       "Val di Fiemme                                 4\n",
       "Wisla                                         3\n",
       "Almaty                                        2\n",
       "Vancouver -Whistler Olympic Park              2\n",
       "Sochi                                         2\n",
       "Ruka                                          2\n",
       "Pragelato                                     2\n",
       "Villach                                       2\n",
       "Liberec                                       2\n",
       "Falun                                         1\n",
       "\n",
       "[32 rows x 1 columns]"
      ]
     },
     "execution_count": 93,
     "metadata": {},
     "output_type": "execute_result"
    }
   ],
   "source": [
    "prizorisca = tekme[['prizorisce', 'drzava_prizorisca']]\n",
    "st_prizorisc = prizorisca['prizorisce'].value_counts()\n",
    "urejeno_prizorisca = {'število tekem':st_prizorisc}\n",
    "prizorisca_tabela = pd.DataFrame(urejeno_prizorisca)\n",
    "prizorisca_tabela"
   ]
  },
  {
   "cell_type": "code",
   "execution_count": 94,
   "metadata": {
    "collapsed": false
   },
   "outputs": [
    {
     "data": {
      "text/plain": [
       "<matplotlib.axes._subplots.AxesSubplot at 0xdae6b321d0>"
      ]
     },
     "execution_count": 94,
     "metadata": {},
     "output_type": "execute_result"
    },
    {
     "data": {
      "image/png": "[encoded data removed]",
      "text/plain": [
       "<matplotlib.figure.Figure at 0xdae6aa30f0>"
      ]
     },
     "metadata": {},
     "output_type": "display_data"
    }
   ],
   "source": [
    "prizorisca_tabela.plot(kind='bar', figsize = (10,3), fontsize='10')"
   ]
  },
  {
   "cell_type": "markdown",
   "metadata": {},
   "source": [
    "Kot vidimo iz grafa naša Planica spada med prizorišča, ki se redno pojavljajo v svetovnem pokalu. Navadno gosti 3 tekme na leto (od teh je ena ekipna), se pa lahko zgodi (npr. lani), da se v Planici odvije tudi kakšna tekma več, zaradi nadomeščanja odpadle tekme iz predhodnjega vikenda."
   ]
  },
  {
   "cell_type": "code",
   "execution_count": 95,
   "metadata": {
    "collapsed": false
   },
   "outputs": [
    {
     "data": {
      "text/html": [
       "<div>\n",
       "<table border=\"1\" class=\"dataframe\">\n",
       "  <thead>\n",
       "    <tr style=\"text-align: right;\">\n",
       "      <th></th>\n",
       "      <th>število tekem</th>\n",
       "    </tr>\n",
       "  </thead>\n",
       "  <tbody>\n",
       "    <tr>\n",
       "      <th>GER</th>\n",
       "      <td>55</td>\n",
       "    </tr>\n",
       "    <tr>\n",
       "      <th>NOR</th>\n",
       "      <td>52</td>\n",
       "    </tr>\n",
       "    <tr>\n",
       "      <th>FIN</th>\n",
       "      <td>39</td>\n",
       "    </tr>\n",
       "    <tr>\n",
       "      <th>AUT</th>\n",
       "      <td>33</td>\n",
       "    </tr>\n",
       "    <tr>\n",
       "      <th>SUI</th>\n",
       "      <td>23</td>\n",
       "    </tr>\n",
       "    <tr>\n",
       "      <th>SLO</th>\n",
       "      <td>22</td>\n",
       "    </tr>\n",
       "    <tr>\n",
       "      <th>POL</th>\n",
       "      <td>21</td>\n",
       "    </tr>\n",
       "    <tr>\n",
       "      <th>JPN</th>\n",
       "      <td>19</td>\n",
       "    </tr>\n",
       "    <tr>\n",
       "      <th>CZE</th>\n",
       "      <td>11</td>\n",
       "    </tr>\n",
       "    <tr>\n",
       "      <th>RUS</th>\n",
       "      <td>6</td>\n",
       "    </tr>\n",
       "    <tr>\n",
       "      <th>ITA</th>\n",
       "      <td>6</td>\n",
       "    </tr>\n",
       "    <tr>\n",
       "      <th>CAN</th>\n",
       "      <td>2</td>\n",
       "    </tr>\n",
       "    <tr>\n",
       "      <th>KAZ</th>\n",
       "      <td>2</td>\n",
       "    </tr>\n",
       "    <tr>\n",
       "      <th>SWE</th>\n",
       "      <td>1</td>\n",
       "    </tr>\n",
       "  </tbody>\n",
       "</table>\n",
       "</div>"
      ],
      "text/plain": [
       "     število tekem\n",
       "GER             55\n",
       "NOR             52\n",
       "FIN             39\n",
       "AUT             33\n",
       "SUI             23\n",
       "SLO             22\n",
       "POL             21\n",
       "JPN             19\n",
       "CZE             11\n",
       "RUS              6\n",
       "ITA              6\n",
       "CAN              2\n",
       "KAZ              2\n",
       "SWE              1"
      ]
     },
     "execution_count": 95,
     "metadata": {},
     "output_type": "execute_result"
    }
   ],
   "source": [
    "st_prizorisc_drz = prizorisca['drzava_prizorisca'].value_counts()\n",
    "urejeno_prizorisca_drz = {'število tekem':st_prizorisc_drz}\n",
    "prizorisca_drz_tabela = pd.DataFrame(urejeno_prizorisca_drz)\n",
    "prizorisca_drz_tabela"
   ]
  },
  {
   "cell_type": "code",
   "execution_count": 96,
   "metadata": {
    "collapsed": false
   },
   "outputs": [
    {
     "data": {
      "text/plain": [
       "array([<matplotlib.axes._subplots.AxesSubplot object at 0x000000DAE6CFA710>], dtype=object)"
      ]
     },
     "execution_count": 96,
     "metadata": {},
     "output_type": "execute_result"
    },
    {
     "data": {
      "image/png": "[encoded data removed]",
      "text/plain": [
       "<matplotlib.figure.Figure at 0xdae6d096a0>"
      ]
     },
     "metadata": {},
     "output_type": "display_data"
    }
   ],
   "source": [
    "prizorisca_drz_tabela.plot(kind='pie', figsize=(10, 10), subplots=True, fontsize='10')"
   ]
  },
  {
   "cell_type": "markdown",
   "metadata": {},
   "source": [
    "Kot vidimo se situacija precej spremeni, če pogledamo število tekem, ki jih gostijo posamezne države. To, da Nemčija, Avstrija, Norveška in Finska prednjačijo pred ostalimi državami, sploh ne preseneča, saj gre za skakalne velesile. Kar pa pomeni, da imajo večje število primernih skakalnic za organizacijo tekem, ter da je priljubljenost skokov med prebivalci države velika, torej je temu primerna tudi udeležba gledalcev na tekmah."
   ]
  },
  {
   "cell_type": "markdown",
   "metadata": {},
   "source": [
    "## 4. Letalnice"
   ]
  },
  {
   "cell_type": "code",
   "execution_count": 97,
   "metadata": {
    "collapsed": false
   },
   "outputs": [
    {
     "data": {
      "text/html": [
       "<div>\n",
       "<table border=\"1\" class=\"dataframe\">\n",
       "  <thead>\n",
       "    <tr style=\"text-align: right;\">\n",
       "      <th></th>\n",
       "      <th>datum</th>\n",
       "      <th>velikost_skakalnice</th>\n",
       "    </tr>\n",
       "  </thead>\n",
       "  <tbody>\n",
       "    <tr>\n",
       "      <th>0</th>\n",
       "      <td>26.11.2005</td>\n",
       "      <td>142</td>\n",
       "    </tr>\n",
       "    <tr>\n",
       "      <th>1</th>\n",
       "      <td>26.11.2005</td>\n",
       "      <td>142</td>\n",
       "    </tr>\n",
       "    <tr>\n",
       "      <th>2</th>\n",
       "      <td>05.03.2006</td>\n",
       "      <td>130</td>\n",
       "    </tr>\n",
       "    <tr>\n",
       "      <th>3</th>\n",
       "      <td>07.03.2006</td>\n",
       "      <td>127</td>\n",
       "    </tr>\n",
       "    <tr>\n",
       "      <th>4</th>\n",
       "      <td>21.01.2006</td>\n",
       "      <td>134</td>\n",
       "    </tr>\n",
       "    <tr>\n",
       "      <th>5</th>\n",
       "      <td>22.01.2006</td>\n",
       "      <td>134</td>\n",
       "    </tr>\n",
       "    <tr>\n",
       "      <th>6</th>\n",
       "      <td>18.03.2006</td>\n",
       "      <td>215</td>\n",
       "    </tr>\n",
       "    <tr>\n",
       "      <th>7</th>\n",
       "      <td>28.01.2006</td>\n",
       "      <td>134</td>\n",
       "    </tr>\n",
       "    <tr>\n",
       "      <th>8</th>\n",
       "      <td>29.01.2006</td>\n",
       "      <td>134</td>\n",
       "    </tr>\n",
       "    <tr>\n",
       "      <th>9</th>\n",
       "      <td>10.12.2005</td>\n",
       "      <td>142</td>\n",
       "    </tr>\n",
       "    <tr>\n",
       "      <th>10</th>\n",
       "      <td>11.12.2005</td>\n",
       "      <td>142</td>\n",
       "    </tr>\n",
       "    <tr>\n",
       "      <th>11</th>\n",
       "      <td>04.01.2006</td>\n",
       "      <td>130</td>\n",
       "    </tr>\n",
       "    <tr>\n",
       "      <th>...</th>\n",
       "      <td>...</td>\n",
       "      <td>...</td>\n",
       "    </tr>\n",
       "    <tr>\n",
       "      <th>280</th>\n",
       "      <td>10.02.2016</td>\n",
       "      <td>140</td>\n",
       "    </tr>\n",
       "    <tr>\n",
       "      <th>281</th>\n",
       "      <td>13.02.2016</td>\n",
       "      <td>225</td>\n",
       "    </tr>\n",
       "    <tr>\n",
       "      <th>282</th>\n",
       "      <td>14.02.2016</td>\n",
       "      <td>225</td>\n",
       "    </tr>\n",
       "    <tr>\n",
       "      <th>283</th>\n",
       "      <td>21.02.2016</td>\n",
       "      <td>100</td>\n",
       "    </tr>\n",
       "    <tr>\n",
       "      <th>284</th>\n",
       "      <td>23.02.2016</td>\n",
       "      <td>127</td>\n",
       "    </tr>\n",
       "    <tr>\n",
       "      <th>285</th>\n",
       "      <td>27.02.2016</td>\n",
       "      <td>140</td>\n",
       "    </tr>\n",
       "    <tr>\n",
       "      <th>286</th>\n",
       "      <td>28.02.2016</td>\n",
       "      <td>140</td>\n",
       "    </tr>\n",
       "    <tr>\n",
       "      <th>287</th>\n",
       "      <td>04.03.2016</td>\n",
       "      <td>134</td>\n",
       "    </tr>\n",
       "    <tr>\n",
       "      <th>288</th>\n",
       "      <td>12.03.2016</td>\n",
       "      <td>142</td>\n",
       "    </tr>\n",
       "    <tr>\n",
       "      <th>289</th>\n",
       "      <td>17.03.2016</td>\n",
       "      <td>225</td>\n",
       "    </tr>\n",
       "    <tr>\n",
       "      <th>290</th>\n",
       "      <td>18.03.2016</td>\n",
       "      <td>225</td>\n",
       "    </tr>\n",
       "    <tr>\n",
       "      <th>291</th>\n",
       "      <td>20.03.2016</td>\n",
       "      <td>225</td>\n",
       "    </tr>\n",
       "  </tbody>\n",
       "</table>\n",
       "<p>292 rows × 2 columns</p>\n",
       "</div>"
      ],
      "text/plain": [
       "          datum  velikost_skakalnice\n",
       "0    26.11.2005                  142\n",
       "1    26.11.2005                  142\n",
       "2    05.03.2006                  130\n",
       "3    07.03.2006                  127\n",
       "4    21.01.2006                  134\n",
       "5    22.01.2006                  134\n",
       "6    18.03.2006                  215\n",
       "7    28.01.2006                  134\n",
       "8    29.01.2006                  134\n",
       "9    10.12.2005                  142\n",
       "10   11.12.2005                  142\n",
       "11   04.01.2006                  130\n",
       "..          ...                  ...\n",
       "280  10.02.2016                  140\n",
       "281  13.02.2016                  225\n",
       "282  14.02.2016                  225\n",
       "283  21.02.2016                  100\n",
       "284  23.02.2016                  127\n",
       "285  27.02.2016                  140\n",
       "286  28.02.2016                  140\n",
       "287  04.03.2016                  134\n",
       "288  12.03.2016                  142\n",
       "289  17.03.2016                  225\n",
       "290  18.03.2016                  225\n",
       "291  20.03.2016                  225\n",
       "\n",
       "[292 rows x 2 columns]"
      ]
     },
     "execution_count": 97,
     "metadata": {},
     "output_type": "execute_result"
    }
   ],
   "source": [
    "visine_skakalnic = tekme[['datum', 'velikost_skakalnice']]\n",
    "visine_skakalnic"
   ]
  },
  {
   "cell_type": "markdown",
   "metadata": {},
   "source": [
    "Kot vidimo v zgornji tabeli, se velikosti skakalnic na tekmah svetovnega pokala precej spreminjajo. V spodnjem grafu je prikazano, kako so se višine skakalnic, na katerih so bile tekme organizirane, spreminjale v analiziranem časovnem obdobju."
   ]
  },
  {
   "cell_type": "code",
   "execution_count": 98,
   "metadata": {
    "collapsed": false
   },
   "outputs": [
    {
     "data": {
      "text/plain": [
       "<matplotlib.axes._subplots.AxesSubplot at 0xdae6db4240>"
      ]
     },
     "execution_count": 98,
     "metadata": {},
     "output_type": "execute_result"
    },
    {
     "data": {
      "image/png": "[encoded data removed]",
      "text/plain": [
       "<matplotlib.figure.Figure at 0xdae6dadc50>"
      ]
     },
     "metadata": {},
     "output_type": "display_data"
    }
   ],
   "source": [
    "visine_skakalnic.plot(x='datum', y='velikost_skakalnice', figsize=(15,7), fontsize='12')"
   ]
  },
  {
   "cell_type": "markdown",
   "metadata": {},
   "source": [
    "Iz grafa je razvidno, da skakalci tekmujejo tudi na skakalnicah, ki imajo višino okrog ali pa celo preko 200m. Take skakalnice imenujemo letalnice (njihova višina je višja od 180m). Ena izmed njih je tudi Letalnica Bratov Gorišek (Planica)."
   ]
  },
  {
   "cell_type": "code",
   "execution_count": 4,
   "metadata": {
    "collapsed": false
   },
   "outputs": [
    {
     "data": {
      "text/html": [
       "<div>\n",
       "<table border=\"1\" class=\"dataframe\">\n",
       "  <thead>\n",
       "    <tr style=\"text-align: right;\">\n",
       "      <th></th>\n",
       "      <th>prizorisce</th>\n",
       "    </tr>\n",
       "    <tr>\n",
       "      <th>velikost_skakalnice</th>\n",
       "      <th></th>\n",
       "    </tr>\n",
       "  </thead>\n",
       "  <tbody>\n",
       "    <tr>\n",
       "      <th>70</th>\n",
       "      <td>4</td>\n",
       "    </tr>\n",
       "    <tr>\n",
       "      <th>97</th>\n",
       "      <td>2</td>\n",
       "    </tr>\n",
       "    <tr>\n",
       "      <th>98</th>\n",
       "      <td>2</td>\n",
       "    </tr>\n",
       "    <tr>\n",
       "      <th>100</th>\n",
       "      <td>7</td>\n",
       "    </tr>\n",
       "    <tr>\n",
       "      <th>106</th>\n",
       "      <td>2</td>\n",
       "    </tr>\n",
       "    <tr>\n",
       "      <th>125</th>\n",
       "      <td>2</td>\n",
       "    </tr>\n",
       "    <tr>\n",
       "      <th>127</th>\n",
       "      <td>10</td>\n",
       "    </tr>\n",
       "    <tr>\n",
       "      <th>128</th>\n",
       "      <td>4</td>\n",
       "    </tr>\n",
       "    <tr>\n",
       "      <th>130</th>\n",
       "      <td>19</td>\n",
       "    </tr>\n",
       "    <tr>\n",
       "      <th>131</th>\n",
       "      <td>5</td>\n",
       "    </tr>\n",
       "    <tr>\n",
       "      <th>134</th>\n",
       "      <td>60</td>\n",
       "    </tr>\n",
       "    <tr>\n",
       "      <th>137</th>\n",
       "      <td>35</td>\n",
       "    </tr>\n",
       "    <tr>\n",
       "      <th>138</th>\n",
       "      <td>12</td>\n",
       "    </tr>\n",
       "    <tr>\n",
       "      <th>139</th>\n",
       "      <td>2</td>\n",
       "    </tr>\n",
       "    <tr>\n",
       "      <th>140</th>\n",
       "      <td>40</td>\n",
       "    </tr>\n",
       "    <tr>\n",
       "      <th>142</th>\n",
       "      <td>24</td>\n",
       "    </tr>\n",
       "    <tr>\n",
       "      <th>145</th>\n",
       "      <td>12</td>\n",
       "    </tr>\n",
       "    <tr>\n",
       "      <th>200</th>\n",
       "      <td>8</td>\n",
       "    </tr>\n",
       "    <tr>\n",
       "      <th>205</th>\n",
       "      <td>5</td>\n",
       "    </tr>\n",
       "    <tr>\n",
       "      <th>207</th>\n",
       "      <td>2</td>\n",
       "    </tr>\n",
       "    <tr>\n",
       "      <th>213</th>\n",
       "      <td>5</td>\n",
       "    </tr>\n",
       "    <tr>\n",
       "      <th>215</th>\n",
       "      <td>15</td>\n",
       "    </tr>\n",
       "    <tr>\n",
       "      <th>225</th>\n",
       "      <td>15</td>\n",
       "    </tr>\n",
       "  </tbody>\n",
       "</table>\n",
       "</div>"
      ],
      "text/plain": [
       "                     prizorisce\n",
       "velikost_skakalnice            \n",
       "70                            4\n",
       "97                            2\n",
       "98                            2\n",
       "100                           7\n",
       "106                           2\n",
       "125                           2\n",
       "127                          10\n",
       "128                           4\n",
       "130                          19\n",
       "131                           5\n",
       "134                          60\n",
       "137                          35\n",
       "138                          12\n",
       "139                           2\n",
       "140                          40\n",
       "142                          24\n",
       "145                          12\n",
       "200                           8\n",
       "205                           5\n",
       "207                           2\n",
       "213                           5\n",
       "215                          15\n",
       "225                          15"
      ]
     },
     "execution_count": 4,
     "metadata": {},
     "output_type": "execute_result"
    }
   ],
   "source": [
    "skakalnice_seznam = tekme[['prizorisce', 'velikost_skakalnice']]\n",
    "skakalnice_visine = skakalnice_seznam.groupby('velikost_skakalnice').count()\n",
    "skakalnice_visine"
   ]
  },
  {
   "cell_type": "code",
   "execution_count": 111,
   "metadata": {
    "collapsed": false
   },
   "outputs": [
    {
     "data": {
      "text/plain": [
       "<matplotlib.axes._subplots.AxesSubplot at 0xdae5830160>"
      ]
     },
     "execution_count": 111,
     "metadata": {},
     "output_type": "execute_result"
    },
    {
     "data": {
      "image/png": "[encoded data removed]",
      "text/plain": [
       "<matplotlib.figure.Figure at 0xdae7aa1f60>"
      ]
     },
     "metadata": {},
     "output_type": "display_data"
    }
   ],
   "source": [
    "tabela_visine.plot(kind= 'bar', title='Število tekem na skakalnici v odvisnosti od višine skakalnic',figsize=(10,3))"
   ]
  },
  {
   "cell_type": "markdown",
   "metadata": {},
   "source": [
    "Zdaj pa poglejmo, število tekem samo za letalnice. Rezultate predstavimo s tortnim diagramom, da vidimo, kakšen odstotek vseh tekem na letalnicah predstavlja določena višina letalnice."
   ]
  },
  {
   "cell_type": "code",
   "execution_count": 5,
   "metadata": {
    "collapsed": false
   },
   "outputs": [
    {
     "data": {
      "text/html": [
       "<div>\n",
       "<table border=\"1\" class=\"dataframe\">\n",
       "  <thead>\n",
       "    <tr style=\"text-align: right;\">\n",
       "      <th></th>\n",
       "      <th>prizorisce</th>\n",
       "    </tr>\n",
       "    <tr>\n",
       "      <th>velikost_skakalnice</th>\n",
       "      <th></th>\n",
       "    </tr>\n",
       "  </thead>\n",
       "  <tbody>\n",
       "    <tr>\n",
       "      <th>200</th>\n",
       "      <td>8</td>\n",
       "    </tr>\n",
       "    <tr>\n",
       "      <th>205</th>\n",
       "      <td>5</td>\n",
       "    </tr>\n",
       "    <tr>\n",
       "      <th>207</th>\n",
       "      <td>2</td>\n",
       "    </tr>\n",
       "    <tr>\n",
       "      <th>213</th>\n",
       "      <td>5</td>\n",
       "    </tr>\n",
       "    <tr>\n",
       "      <th>215</th>\n",
       "      <td>15</td>\n",
       "    </tr>\n",
       "    <tr>\n",
       "      <th>225</th>\n",
       "      <td>15</td>\n",
       "    </tr>\n",
       "  </tbody>\n",
       "</table>\n",
       "</div>"
      ],
      "text/plain": [
       "                     prizorisce\n",
       "velikost_skakalnice            \n",
       "200                           8\n",
       "205                           5\n",
       "207                           2\n",
       "213                           5\n",
       "215                          15\n",
       "225                          15"
      ]
     },
     "execution_count": 5,
     "metadata": {},
     "output_type": "execute_result"
    }
   ],
   "source": [
    "letalnice = skakalnice_seznam[skakalnice_seznam.velikost_skakalnice>180]\n",
    "st_letalnic = letalnice.groupby('velikost_skakalnice').count()\n",
    "tabela_letalnice = pd.DataFrame(st_letalnic)\n",
    "tabela_letalnice"
   ]
  },
  {
   "cell_type": "code",
   "execution_count": 120,
   "metadata": {
    "collapsed": false
   },
   "outputs": [
    {
     "data": {
      "text/plain": [
       "array([<matplotlib.axes._subplots.AxesSubplot object at 0x000000DAE95F86A0>], dtype=object)"
      ]
     },
     "execution_count": 120,
     "metadata": {},
     "output_type": "execute_result"
    },
    {
     "data": {
      "image/png": "[encoded data removed]",
      "text/plain": [
       "<matplotlib.figure.Figure at 0xdae7b3dd68>"
      ]
     },
     "metadata": {},
     "output_type": "display_data"
    }
   ],
   "source": [
    "tabela_letalnice.plot(kind='pie', subplots=True, figsize=(6,4), autopct = '%.f%%')"
   ]
  },
  {
   "cell_type": "code",
   "execution_count": 6,
   "metadata": {
    "collapsed": false
   },
   "outputs": [
    {
     "data": {
      "text/plain": [
       "292"
      ]
     },
     "execution_count": 6,
     "metadata": {},
     "output_type": "execute_result"
    }
   ],
   "source": [
    "vse_skakalnice = tekme[['velikost_skakalnice']].count()\n",
    "vse_tekme = vse_skakalnice['velikost_skakalnice']\n",
    "vse_tekme"
   ]
  },
  {
   "cell_type": "code",
   "execution_count": 7,
   "metadata": {
    "collapsed": false
   },
   "outputs": [
    {
     "data": {
      "text/plain": [
       "242"
      ]
     },
     "execution_count": 7,
     "metadata": {},
     "output_type": "execute_result"
    }
   ],
   "source": [
    "vse_skakalnice = tekme[['velikost_skakalnice']]\n",
    "stevilo_skakalnic = vse_skakalnice[vse_skakalnice.velikost_skakalnice < 180].count()\n",
    "stevilo_skakalnic1 = stevilo_skakalnic['velikost_skakalnice']\n",
    "stevilo_skakalnic1"
   ]
  },
  {
   "cell_type": "code",
   "execution_count": 8,
   "metadata": {
    "collapsed": false
   },
   "outputs": [
    {
     "data": {
      "text/plain": [
       "50"
      ]
     },
     "execution_count": 8,
     "metadata": {},
     "output_type": "execute_result"
    }
   ],
   "source": [
    "stevilo_letalnic = vse_skakalnice[vse_skakalnice.velikost_skakalnice > 180].count()\n",
    "stevilo_letalnic1 = stevilo_letalnic['velikost_skakalnice']\n",
    "stevilo_letalnic1"
   ]
  },
  {
   "cell_type": "markdown",
   "metadata": {},
   "source": [
    "Vseh tekem v obdobju med sezonama 2005/06 in 2015/16 je bilo 292. Od tega je bilo 50 tekem organiziranih na letalnicah, 242 pa na skakalnicah manjših od 180m."
   ]
  },
  {
   "cell_type": "code",
   "execution_count": 134,
   "metadata": {
    "collapsed": false
   },
   "outputs": [
    {
     "data": {
      "text/html": [
       "<div>\n",
       "<table border=\"1\" class=\"dataframe\">\n",
       "  <thead>\n",
       "    <tr style=\"text-align: right;\">\n",
       "      <th></th>\n",
       "      <th>letalnice</th>\n",
       "      <th>skakalnice</th>\n",
       "      <th>skupaj</th>\n",
       "    </tr>\n",
       "  </thead>\n",
       "  <tbody>\n",
       "    <tr>\n",
       "      <th>velikost_skakalnice</th>\n",
       "      <td>50</td>\n",
       "      <td>242</td>\n",
       "      <td>292</td>\n",
       "    </tr>\n",
       "  </tbody>\n",
       "</table>\n",
       "</div>"
      ],
      "text/plain": [
       "                     letalnice  skakalnice  skupaj\n",
       "velikost_skakalnice         50         242     292"
      ]
     },
     "execution_count": 134,
     "metadata": {},
     "output_type": "execute_result"
    }
   ],
   "source": [
    "tabelca = pd.DataFrame({'skakalnice':stevilo_skakalnic, 'letalnice':stevilo_letalnic, 'skupaj':vse_tekme})\n",
    "tabelca"
   ]
  },
  {
   "cell_type": "code",
   "execution_count": 11,
   "metadata": {
    "collapsed": false
   },
   "outputs": [
    {
     "data": {
      "text/html": [
       "<div>\n",
       "<table border=\"1\" class=\"dataframe\">\n",
       "  <thead>\n",
       "    <tr style=\"text-align: right;\">\n",
       "      <th></th>\n",
       "      <th>letalnice (%)</th>\n",
       "      <th>skakalnice (%)</th>\n",
       "    </tr>\n",
       "  </thead>\n",
       "  <tbody>\n",
       "    <tr>\n",
       "      <th>velikost_skakalnice</th>\n",
       "      <td>17.123288</td>\n",
       "      <td>82.876712</td>\n",
       "    </tr>\n",
       "  </tbody>\n",
       "</table>\n",
       "</div>"
      ],
      "text/plain": [
       "                     letalnice (%)  skakalnice (%)\n",
       "velikost_skakalnice      17.123288       82.876712"
      ]
     },
     "execution_count": 11,
     "metadata": {},
     "output_type": "execute_result"
    }
   ],
   "source": [
    "tabela = pd.DataFrame({'letalnice (%)': stevilo_letalnic / vse_tekme * 100,\n",
    "                       'skakalnice (%)': stevilo_skakalnic / vse_tekme * 100})\n",
    "tabela"
   ]
  }
 ],
 "metadata": {
  "anaconda-cloud": {},
  "kernelspec": {
   "display_name": "Python [default]",
   "language": "python",
   "name": "python3"
  },
  "language_info": {
   "codemirror_mode": {
    "name": "ipython",
    "version": 3
   },
   "file_extension": ".py",
   "mimetype": "text/x-python",
   "name": "python",
   "nbconvert_exporter": "python",
   "pygments_lexer": "ipython3",
   "version": "3.5.2"
  }
 },
 "nbformat": 4,
 "nbformat_minor": 1
}
